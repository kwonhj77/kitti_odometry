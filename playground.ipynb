{
 "cells": [
  {
   "cell_type": "code",
   "execution_count": 1,
   "metadata": {},
   "outputs": [],
   "source": [
    "import torch\n",
    "import torchvision\n",
    "import numpy as np\n",
    "import cv2\n",
    "from datasets.KittiOdomDataset import KittiOdomDataset\n",
    "from torch.utils.data import DataLoader"
   ]
  },
  {
   "cell_type": "code",
   "execution_count": 2,
   "metadata": {},
   "outputs": [
    {
     "name": "stdout",
     "output_type": "stream",
     "text": [
      "0 torch.Size([239, 3, 376, 1241]) torch.Size([239, 12])\n",
      "tensor([ 1.0000e+00,  9.0437e-12,  2.3268e-11,  5.5511e-17,  9.0437e-12,\n",
      "         1.0000e+00,  2.3924e-10,  3.3307e-16,  2.3268e-11,  2.3924e-10,\n",
      "         1.0000e+00, -4.4409e-16], dtype=torch.float64)\n"
     ]
    }
   ],
   "source": [
    "dataset = KittiOdomDataset(r'datasets\\data_odometry_csv\\00.csv')\n",
    "dataloader = DataLoader(dataset, batch_size=239)\n",
    "\n",
    "for batch_idx, sample in enumerate(dataloader):\n",
    "    print(batch_idx, sample['image'].size(), sample['odom'].size())\n",
    "    print(sample['odom'][0])\n",
    "    transform = torchvision.transforms.ToPILImage()\n",
    "    pil_img = transform(sample['image'][0])\n",
    "    pil_img = cv2.cvtColor(np.array(pil_img), cv2.COLOR_BGR2RGB) \n",
    "    cv2.imshow('img',np.array(pil_img))\n",
    "    cv2.waitKey(0)\n",
    "    cv2.destroyAllWindows()\n",
    "    break"
   ]
  },
  {
   "cell_type": "code",
   "execution_count": 4,
   "metadata": {},
   "outputs": [
    {
     "name": "stdout",
     "output_type": "stream",
     "text": [
      "233308.0\n",
      "6620.0\n"
     ]
    }
   ],
   "source": [
    "height = 376\n",
    "width = 1241\n",
    "expected_val = 226688\n",
    "\n",
    "x = (height / 2**4) * (width / 2**4) * 128\n",
    "print(x)\n",
    "print(x - expected_val)"
   ]
  },
  {
   "cell_type": "code",
   "execution_count": 5,
   "metadata": {},
   "outputs": [
    {
     "name": "stdout",
     "output_type": "stream",
     "text": [
      "226688\n"
     ]
    }
   ],
   "source": [
    "print(128 * 23 * 77)"
   ]
  },
  {
   "cell_type": "code",
   "execution_count": null,
   "metadata": {},
   "outputs": [],
   "source": []
  }
 ],
 "metadata": {
  "kernelspec": {
   "display_name": ".venv",
   "language": "python",
   "name": "python3"
  },
  "language_info": {
   "codemirror_mode": {
    "name": "ipython",
    "version": 3
   },
   "file_extension": ".py",
   "mimetype": "text/x-python",
   "name": "python",
   "nbconvert_exporter": "python",
   "pygments_lexer": "ipython3",
   "version": "3.9.13"
  }
 },
 "nbformat": 4,
 "nbformat_minor": 2
}
